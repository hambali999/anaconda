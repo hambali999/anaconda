{
 "cells": [
  {
   "cell_type": "code",
   "execution_count": 13,
   "id": "e9049d1d-7f10-4e75-bc4c-d9b0235eeb53",
   "metadata": {},
   "outputs": [],
   "source": [
    "class Stack:\n",
    "    def __init__(self):\n",
    "        self.list = []\n",
    "        self.length = 0\n",
    "\n",
    "    def print_stack(self):\n",
    "        return self.list\n",
    "\n",
    "    def push(self, value):\n",
    "        self.list.append(value)\n",
    "        self.length += 1\n",
    "        \n",
    "    def pop(self):\n",
    "        if self.length == 0:\n",
    "            return None\n",
    "        self.list.pop()\n",
    "        self.length -= 1\n",
    "\n",
    "    def top(self):\n",
    "        print(self.list[-1])\n",
    "        return self.list[-1]\n",
    "\n",
    "    def isEmpty(self):\n",
    "        if self.length <= 0:\n",
    "            print(\"True\")\n",
    "            return True\n",
    "        print(\"False\")\n",
    "        return False\n",
    "\n",
    "    def size(self):\n",
    "        return self.length"
   ]
  },
  {
   "cell_type": "code",
   "execution_count": 15,
   "id": "6b6a834b-dfe6-4e20-9bc2-7dd41fc4200b",
   "metadata": {},
   "outputs": [
    {
     "name": "stdout",
     "output_type": "stream",
     "text": [
      "20\n",
      "False\n",
      "2\n"
     ]
    },
    {
     "data": {
      "text/plain": [
       "[10, 20]"
      ]
     },
     "execution_count": 15,
     "metadata": {},
     "output_type": "execute_result"
    }
   ],
   "source": [
    "stack = Stack()\n",
    "stack.push(10)\n",
    "stack.push(20)\n",
    "stack.push(30)\n",
    "stack.pop()\n",
    "stack.top()\n",
    "stack.isEmpty()\n",
    "print(stack.size())\n",
    "stack.print_stack()"
   ]
  },
  {
   "cell_type": "code",
   "execution_count": null,
   "id": "6368400e-8046-46c1-a4ad-975bb868158f",
   "metadata": {},
   "outputs": [],
   "source": []
  }
 ],
 "metadata": {
  "kernelspec": {
   "display_name": "Python 3 (ipykernel)",
   "language": "python",
   "name": "python3"
  },
  "language_info": {
   "codemirror_mode": {
    "name": "ipython",
    "version": 3
   },
   "file_extension": ".py",
   "mimetype": "text/x-python",
   "name": "python",
   "nbconvert_exporter": "python",
   "pygments_lexer": "ipython3",
   "version": "3.11.7"
  }
 },
 "nbformat": 4,
 "nbformat_minor": 5
}
