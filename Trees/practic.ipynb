{
 "cells": [
  {
   "cell_type": "code",
   "execution_count": 27,
   "metadata": {},
   "outputs": [
    {
     "name": "stdout",
     "output_type": "stream",
     "text": [
      "8\n",
      "3\n",
      "10\n",
      "1\n",
      "6\n",
      "14\n",
      "True\n"
     ]
    }
   ],
   "source": [
    "class Node:\n",
    "    def __init__(self, data):\n",
    "        self.data = data\n",
    "        self.left = None\n",
    "        self.right = None\n",
    "\n",
    "def insert(rootnode, value):\n",
    "    if rootnode is None:\n",
    "        return Node(value)\n",
    "    else:\n",
    "        if rootnode.data == value:\n",
    "            return rootnode\n",
    "        elif rootnode.data < value:\n",
    "            rootnode.right = insert(rootnode.right, value)\n",
    "        else:\n",
    "            rootnode.left = insert(rootnode.left, value)\n",
    "    return rootnode\n",
    "\n",
    "def search(rootnode, value):\n",
    "    if rootnode is None:\n",
    "        return False\n",
    "    if rootnode.data == value:\n",
    "        return True\n",
    "    elif rootnode.data < value:\n",
    "        return search(rootnode.right, value)\n",
    "    return search(rootnode.left, value)\n",
    "    \n",
    "def level_order_traversal(rootnode):\n",
    "    if not rootnode:\n",
    "        return\n",
    "    queue = []\n",
    "    queue.append(rootnode)\n",
    "    while len(queue) > 0:\n",
    "        print(queue[0].data)\n",
    "        node = queue.pop(0)\n",
    "        if node.left:\n",
    "            queue.append(node.left)\n",
    "        if node.right:\n",
    "            queue.append(node.right)\n",
    "\n",
    "bst = Node(8)\n",
    "insert(bst, 3)\n",
    "insert(bst, 10)\n",
    "insert(bst, 1)\n",
    "insert(bst, 6)\n",
    "insert(bst, 14)\n",
    "level_order_traversal(bst)\n",
    "print(search(bst, 1))\n",
    "\n",
    "\n",
    "\n",
    "\n"
   ]
  },
  {
   "cell_type": "code",
   "execution_count": null,
   "metadata": {},
   "outputs": [],
   "source": []
  }
 ],
 "metadata": {
  "kernelspec": {
   "display_name": "Python 3",
   "language": "python",
   "name": "python3"
  },
  "language_info": {
   "codemirror_mode": {
    "name": "ipython",
    "version": 3
   },
   "file_extension": ".py",
   "mimetype": "text/x-python",
   "name": "python",
   "nbconvert_exporter": "python",
   "pygments_lexer": "ipython3",
   "version": "3.12.3"
  }
 },
 "nbformat": 4,
 "nbformat_minor": 2
}
