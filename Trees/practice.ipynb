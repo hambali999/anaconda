{
 "cells": [
  {
   "cell_type": "code",
   "execution_count": 14,
   "metadata": {},
   "outputs": [],
   "source": [
    "#AVL\n",
    "\n",
    "class Node:\n",
    "    def __init__(self, data):\n",
    "        self.data = data\n",
    "        self.left = None\n",
    "        self.right = None\n",
    "        self.height = 1\n",
    "    \n",
    "def level_order_traveral(rootnode):\n",
    "    if not rootnode: \n",
    "        return\n",
    "    queue = [rootnode]\n",
    "    while len(queue) > 0:\n",
    "        print(queue[0].data)\n",
    "        node = queue.pop(0)\n",
    "        if node.left: \n",
    "            queue.append(node.left)\n",
    "        if node.right: \n",
    "            queue.append(node.right)\n",
    "\n",
    "# HELPER FUNCTIONS\n",
    "def find_min_node(node):\n",
    "    curr = node\n",
    "    while curr.left:\n",
    "        curr = curr.left\n",
    "    return curr\n",
    "\n",
    "def get_height(rootnode):\n",
    "    if not rootnode: \n",
    "        return 0\n",
    "    return rootnode.height\n",
    "\n",
    "def get_balance(rootnode):\n",
    "    if not rootnode: \n",
    "        return 0\n",
    "    return get_balance(rootnode.left) - get_balance(rootnode.right)\n",
    "\n",
    "# ROTATING FUNCTIONS\n",
    "def rotate_left(unbalanced_node):\n",
    "    new_root = unbalanced_node.right\n",
    "    unbalanced_node.right = unbalanced_node.right.left\n",
    "    new_root.left = unbalanced_node\n",
    "    unbalanced_node.height = 1 + max(get_height(unbalanced_node.left), get_height(unbalanced_node.right))\n",
    "    new_root.height = 1 + max(get_height(new_root.left), get_height(new_root.right))\n",
    "    return new_root\n",
    "\n",
    "def rotate_right(unbalanced_node):\n",
    "    new_root = unbalanced_node.left\n",
    "    unbalanced_node.left = unbalanced_node.left.right\n",
    "    new_root.right = unbalanced_node\n",
    "    unbalanced_node.height = 1 + max(get_height(unbalanced_node.left), get_height(unbalanced_node.right))\n",
    "    new_root.height = 1 + max(get_height(new_root.left), get_height(new_root.right))\n",
    "    return new_root\n",
    "\n",
    "# INSERT FUNCTION\n",
    "def insert(rootnode, value):\n",
    "    if not rootnode: \n",
    "        return Node(value)\n",
    "    elif rootnode.data < value:\n",
    "        rootnode.right = insert(rootnode.right, value)\n",
    "    else:\n",
    "        rootnode.left = insert(rootnode.left, value)\n",
    "    \n",
    "    rootnode.height = 1 + max(get_height(rootnode.left), get_height(rootnode.right))\n",
    "    balance = get_balance(rootnode)\n",
    "\n",
    "    # ROTATE CHECKER\n",
    "    if balance > 1 and value < rootnode.left.data:\n",
    "        return rotate_right(rootnode)\n",
    "    if balance > 1 and value > rootnode.left.data:\n",
    "        rootnode.left = rotate_left(rootnode.left)\n",
    "        return rotate_right(rootnode)\n",
    "    if balance < -1 and value > rootnode.right.data:\n",
    "        return rotate_left(rootnode)\n",
    "    if balance < -1 and value < rootnode.right.data:\n",
    "        rootnode.right = rotate_right(rootnode.right)\n",
    "        return rotate_left(rootnode)\n",
    "    \n",
    "    return rootnode\n",
    "\n",
    "\n",
    "\n",
    "# DELETE FUNCTION"
   ]
  },
  {
   "cell_type": "code",
   "execution_count": 15,
   "metadata": {},
   "outputs": [
    {
     "name": "stdout",
     "output_type": "stream",
     "text": [
      "50\n",
      "100\n",
      "200\n"
     ]
    }
   ],
   "source": [
    "avl = Node(50)\n",
    "avl = insert(avl , 100)\n",
    "avl = insert(avl , 200)\n",
    "level_order_traveral(avl)"
   ]
  },
  {
   "cell_type": "code",
   "execution_count": null,
   "metadata": {},
   "outputs": [],
   "source": []
  }
 ],
 "metadata": {
  "kernelspec": {
   "display_name": "Python 3",
   "language": "python",
   "name": "python3"
  },
  "language_info": {
   "codemirror_mode": {
    "name": "ipython",
    "version": 3
   },
   "file_extension": ".py",
   "mimetype": "text/x-python",
   "name": "python",
   "nbconvert_exporter": "python",
   "pygments_lexer": "ipython3",
   "version": "3.12.3"
  }
 },
 "nbformat": 4,
 "nbformat_minor": 2
}
