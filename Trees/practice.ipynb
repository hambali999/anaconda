{
 "cells": [
  {
   "cell_type": "code",
   "execution_count": 26,
   "metadata": {},
   "outputs": [],
   "source": []
  },
  {
   "cell_type": "code",
   "execution_count": 100,
   "metadata": {},
   "outputs": [
    {
     "name": "stdout",
     "output_type": "stream",
     "text": [
      "20\n",
      "10\n",
      "30\n",
      "5\n",
      "25\n",
      "50\n"
     ]
    }
   ],
   "source": [
    "# avl = Node(30)\n",
    "# avl = insert(avl , 20)\n",
    "# avl = insert(avl , 10)\n",
    "# avl = insert(avl , 25)\n",
    "# avl = insert(avl , 50)\n",
    "# avl = delete(avl , 10)\n",
    "# avl = insert(avl , 10)\n",
    "# avl = insert(avl , 5)\n",
    "\n",
    "\n",
    "\n",
    "\n",
    "# level_order_traversal(avl)"
   ]
  },
  {
   "cell_type": "code",
   "execution_count": null,
   "metadata": {},
   "outputs": [],
   "source": []
  }
 ],
 "metadata": {
  "kernelspec": {
   "display_name": "Python 3",
   "language": "python",
   "name": "python3"
  },
  "language_info": {
   "codemirror_mode": {
    "name": "ipython",
    "version": 3
   },
   "file_extension": ".py",
   "mimetype": "text/x-python",
   "name": "python",
   "nbconvert_exporter": "python",
   "pygments_lexer": "ipython3",
   "version": "3.12.3"
  }
 },
 "nbformat": 4,
 "nbformat_minor": 2
}
