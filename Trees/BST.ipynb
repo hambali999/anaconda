{
 "cells": [
  {
   "cell_type": "markdown",
   "id": "9edead2a",
   "metadata": {},
   "source": [
    "<div>\n",
    "<img src=\"attachment:image.png\" width=\"750\"/>\n",
    "</div>"
   ]
  },
  {
   "cell_type": "code",
   "execution_count": 3,
   "id": "4a8a27a9",
   "metadata": {},
   "outputs": [],
   "source": [
    "class BSTNode:\n",
    "    def __init__(self, data):\n",
    "        self.data = data\n",
    "        self.left = None \n",
    "        self.right = None \n",
    "\n",
    "def insert_node(rootnode, value):\n",
    "    if rootnode.data is None:\n",
    "        rootnode.data = value\n",
    "    elif value <= rootnode.data:\n",
    "        if rootnode.left \n",
    "\n",
    "        \n",
    "    \n",
    "newBST = BSTNode(1)"
   ]
  },
  {
   "cell_type": "code",
   "execution_count": null,
   "id": "b043ac16",
   "metadata": {},
   "outputs": [],
   "source": []
  }
 ],
 "metadata": {
  "kernelspec": {
   "display_name": "Python 3 (ipykernel)",
   "language": "python",
   "name": "python3"
  },
  "language_info": {
   "codemirror_mode": {
    "name": "ipython",
    "version": 3
   },
   "file_extension": ".py",
   "mimetype": "text/x-python",
   "name": "python",
   "nbconvert_exporter": "python",
   "pygments_lexer": "ipython3",
   "version": "3.12.3"
  }
 },
 "nbformat": 4,
 "nbformat_minor": 5
}
