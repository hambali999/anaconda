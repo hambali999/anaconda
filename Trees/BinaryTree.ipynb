{
 "cells": [
  {
   "cell_type": "code",
   "execution_count": 8,
   "id": "eecbbc76",
   "metadata": {},
   "outputs": [
    {
     "name": "stdout",
     "output_type": "stream",
     "text": [
      "Drinks\n",
      "Hot\n",
      "Cold\n",
      "Ice Lemon Tea\n",
      "Ice Milk Tea\n",
      "---\n",
      "Hot\n",
      "Drinks\n",
      "Ice Lemon Tea\n",
      "Cold\n",
      "Ice Milk Tea\n",
      "---\n",
      "Hot\n",
      "Ice Lemon Tea\n",
      "Ice Milk Tea\n",
      "Cold\n",
      "Drinks\n"
     ]
    }
   ],
   "source": [
    "class TreeNode:\n",
    "    def __init__(self, data):\n",
    "        self.data = data\n",
    "        self.leftChild = None\n",
    "        self.rightChild = None\n",
    "        \n",
    "        \n",
    "newBT = TreeNode(\"Drinks\")\n",
    "leftChild = TreeNode(\"Hot\")\n",
    "rightChild = TreeNode(\"Cold\")\n",
    "newBT.leftChild = leftChild\n",
    "newBT.rightChild = rightChild\n",
    "rightChild.rightChild = TreeNode(\"Ice Milk Tea\")\n",
    "rightChild.leftChild = TreeNode(\"Ice Lemon Tea\")\n",
    "\n",
    "\n",
    "def preOrderTraversal(rootNode):\n",
    "    if not rootNode:\n",
    "        return\n",
    "    print(rootNode.data)\n",
    "    preOrderTraversal(rootNode.leftChild)\n",
    "    preOrderTraversal(rootNode.rightChild)\n",
    "    \n",
    "def inOrderTraversal(rootNode):\n",
    "    if not rootNode:\n",
    "        return\n",
    "    inOrderTraversal(rootNode.leftChild)\n",
    "    print(rootNode.data)\n",
    "    inOrderTraversal(rootNode.rightChild)\n",
    "    \n",
    "def postOrderTraversal(rootNode):\n",
    "    if not rootNode:\n",
    "        return\n",
    "    postOrderTraversal(rootNode.leftChild)\n",
    "    postOrderTraversal(rootNode.rightChild)\n",
    "    print(rootNode.data)\n",
    "    \n",
    "preOrderTraversal(newBT)\n",
    "print('---')\n",
    "inOrderTraversal(newBT)\n",
    "print('---')\n",
    "postOrderTraversal(newBT)"
   ]
  },
  {
   "cell_type": "code",
   "execution_count": null,
   "id": "ada2e853",
   "metadata": {},
   "outputs": [],
   "source": []
  }
 ],
 "metadata": {
  "kernelspec": {
   "display_name": "Python 3 (ipykernel)",
   "language": "python",
   "name": "python3"
  },
  "language_info": {
   "codemirror_mode": {
    "name": "ipython",
    "version": 3
   },
   "file_extension": ".py",
   "mimetype": "text/x-python",
   "name": "python",
   "nbconvert_exporter": "python",
   "pygments_lexer": "ipython3",
   "version": "3.11.7"
  }
 },
 "nbformat": 4,
 "nbformat_minor": 5
}
