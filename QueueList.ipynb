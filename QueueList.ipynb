{
 "cells": [
  {
   "cell_type": "code",
   "execution_count": 8,
   "id": "67defaa4-676c-46d0-b52d-47a7b06e6b9b",
   "metadata": {},
   "outputs": [],
   "source": [
    "class Queue:\n",
    "    def __init__(self, maxsize=0):\n",
    "        self.list = []\n",
    "        self.length = 0\n",
    "        self.maxsize = maxsize\n",
    "\n",
    "    def info(self):\n",
    "        print(self.list)\n",
    "        print(self.length)\n",
    "        print(self.maxsize)\n",
    "\n",
    "    def empty(self):\n",
    "        return True if self.length-1 == 0 else False\n",
    "\n",
    "    def full(self):\n",
    "        return True if self.length-1 == self.maxsize else False\n",
    "\n",
    "    def get(self):\n",
    "        if self.length-1 == 0:\n",
    "            return None\n",
    "        else:\n",
    "            return self.list.pop(0)\n",
    "\n",
    "    def enqueue(self, value):\n",
    "        self.list.append(value)\n",
    "\n",
    "    def dequeue(self):\n",
    "        if self.length-1 == 0:\n",
    "            return None\n",
    "        else:\n",
    "            self.list.pop(0)\n",
    "\n",
    "    def print_list(self):\n",
    "        print(self.list)\n",
    "\n",
    "\n",
    "    \n",
    "    \n"
   ]
  },
  {
   "cell_type": "code",
   "execution_count": 11,
   "id": "7447d4a6-f8e8-470d-acce-2b108511deb3",
   "metadata": {},
   "outputs": [
    {
     "name": "stdout",
     "output_type": "stream",
     "text": [
      "False\n",
      "[2, 3]\n"
     ]
    }
   ],
   "source": [
    "ql = Queue(5)\n",
    "ql.enqueue(1)\n",
    "ql.enqueue(2)\n",
    "ql.enqueue(3)\n",
    "ql.dequeue()\n",
    "print(ql.empty())\n",
    "ql.print_list()\n"
   ]
  },
  {
   "cell_type": "code",
   "execution_count": null,
   "id": "b3706550-4bad-42dc-a0c6-c55a48581134",
   "metadata": {},
   "outputs": [],
   "source": []
  }
 ],
 "metadata": {
  "kernelspec": {
   "display_name": "Python 3 (ipykernel)",
   "language": "python",
   "name": "python3"
  },
  "language_info": {
   "codemirror_mode": {
    "name": "ipython",
    "version": 3
   },
   "file_extension": ".py",
   "mimetype": "text/x-python",
   "name": "python",
   "nbconvert_exporter": "python",
   "pygments_lexer": "ipython3",
   "version": "3.11.7"
  }
 },
 "nbformat": 4,
 "nbformat_minor": 5
}
