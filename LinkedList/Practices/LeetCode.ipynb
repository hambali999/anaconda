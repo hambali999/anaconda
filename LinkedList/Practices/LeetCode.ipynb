{
 "cells": [
  {
   "cell_type": "code",
   "execution_count": 1,
   "id": "77503c68-ea81-4f78-acd9-bcd401bb4e94",
   "metadata": {},
   "outputs": [],
   "source": [
    "class Node:\n",
    "    def __init__(self, value=0, next=None):\n",
    "        self.value = value\n",
    "        self.next = None\n",
    "\n",
    "class LinkedList:\n",
    "    def __init__(self):\n",
    "        self.head = None\n",
    "        self.tail = None\n",
    "\n",
    "    def append(self, value):\n",
    "        new_node = Node(value)\n",
    "        if self.head is None:\n",
    "            self.head = new_node\n",
    "            self.tail = new_node\n",
    "        else:\n",
    "            self.tail.next = new_node\n",
    "            self.tail = new_node\n",
    "\n",
    "    def __str__(self):\n",
    "        if self.head is None:\n",
    "            return None\n",
    "        lstr = \"\"\n",
    "        temp = self.head\n",
    "        while temp:\n",
    "            if temp.next is None:\n",
    "                lstr+= f\"{str(temp.value)}\"\n",
    "            else:\n",
    "                lstr += f\"{str(temp.value)} -> \"\n",
    "            temp = temp.next\n",
    "        return lstr"
   ]
  },
  {
   "cell_type": "code",
   "execution_count": 2,
   "id": "6adebd42-ad96-42eb-9bb4-ff0de04283a4",
   "metadata": {},
   "outputs": [
    {
     "name": "stdout",
     "output_type": "stream",
     "text": [
      "1 -> 2 -> 3 -> 4 -> 5\n"
     ]
    }
   ],
   "source": [
    "l1 = LinkedList()\n",
    "l1.append(1)\n",
    "l1.append(2)\n",
    "l1.append(3)\n",
    "l1.append(4)\n",
    "l1.append(5)\n",
    "# l1.append(6)\n",
    "# l1.append(7)\n",
    "print(l1)\n",
    "\n"
   ]
  },
  {
   "cell_type": "code",
   "execution_count": 3,
   "id": "9e4e6973-58ee-4b66-a16c-7b2cb8815c98",
   "metadata": {},
   "outputs": [
    {
     "name": "stdout",
     "output_type": "stream",
     "text": [
      "1 1\n",
      "2 3\n",
      "3\n"
     ]
    }
   ],
   "source": [
    "#https://leetcode.com/problems/middle-of-the-linked-list/description/ - easy\n",
    "\n",
    "head = l1.head\n",
    "\n",
    "def middleNode(head):\n",
    "    \"\"\"\n",
    "    :type head: ListNode\n",
    "    :rtype: ListNode\n",
    "    \"\"\"\n",
    "    if head is None:\n",
    "        return None\n",
    "    slow = head\n",
    "    fast = head\n",
    "\n",
    "    while fast.next is not None and fast.next.next is not None:\n",
    "        print(slow.value, fast.value)\n",
    "        slow = slow.next\n",
    "        fast = fast.next.next\n",
    "\n",
    "    if fast.next is not None:\n",
    "        return slow.next.value\n",
    "    else:\n",
    "        return slow.value\n",
    "\n",
    "print(middleNode(head))"
   ]
  },
  {
   "cell_type": "code",
   "execution_count": 4,
   "id": "7edd0cd7-c05e-4fc8-8270-03f3f17951fe",
   "metadata": {},
   "outputs": [
    {
     "name": "stdout",
     "output_type": "stream",
     "text": [
      "<__main__.Node object at 0x0000025516D18C90>\n"
     ]
    }
   ],
   "source": [
    "#https://leetcode.com/problems/remove-nth-node-from-end-of-list/ - medium\n",
    "\n",
    "head = l1.head\n",
    "\n",
    "def removeNthFromEnd(head, n):\n",
    "    \"\"\"\n",
    "    :type head: ListNode\n",
    "    :type n: int\n",
    "    :rtype: ListNode\n",
    "    \"\"\"\n",
    "    length = 0\n",
    "    temp = head\n",
    "\n",
    "    # calculate length\n",
    "    while temp:\n",
    "        length += 1\n",
    "        temp = temp.next\n",
    "\n",
    "    # outliers\n",
    "    if length == 1:\n",
    "        return None\n",
    "\n",
    "    # length minus n minus 1 will give us the nth node from the start of the list\n",
    "    nth = length - n\n",
    "\n",
    "    # when nth node from the end of list to be removed is the first node in the list\n",
    "    if n == length:\n",
    "        head = head.next\n",
    "    # when all other nth node from end of list to be removed\n",
    "    else:\n",
    "        pre = head\n",
    "        current = head\n",
    "        temp = head.next\n",
    "        for _ in range(nth):\n",
    "            pre = current\n",
    "            current = temp \n",
    "            temp = temp.next\n",
    "        pre.next = temp\n",
    "        remove_node = current\n",
    "\n",
    "    return head\n",
    "\n",
    "print(removeNthFromEnd(head,1))\n",
    "\n",
    "# test cases\n",
    "# input: 1,2,3,4,5\n",
    "# output: 1,2,3,5\n",
    "\n",
    "# input: 1,2\n",
    "# output: 2"
   ]
  },
  {
   "cell_type": "code",
   "execution_count": 5,
   "id": "94f3aac2-9a06-41f5-b9f8-cc75d67fcc52",
   "metadata": {},
   "outputs": [
    {
     "name": "stdout",
     "output_type": "stream",
     "text": [
      "3 -> 2 -> 0 -> -4\n",
      "---\n",
      "1 1\n",
      "2 3\n",
      "3 2\n",
      "4 4\n"
     ]
    },
    {
     "data": {
      "text/plain": [
       "True"
      ]
     },
     "execution_count": 5,
     "metadata": {},
     "output_type": "execute_result"
    }
   ],
   "source": [
    "# https://leetcode.com/problems/linked-list-cycle/ - easy\n",
    "\n",
    "# Input: head = [3,2,0,-4], pos = 1\n",
    "# Output: true\n",
    "# Explanation: There is a cycle in the linked list, where the tail connects to the 1st node (0-indexed).\n",
    "\n",
    "def makeCycle(head, target):\n",
    "    temp = head\n",
    "    for _ in range(target):\n",
    "        # print(temp.value)\n",
    "        temp = temp.next\n",
    "    targetnode = temp\n",
    "\n",
    "    temp = head\n",
    "    while temp.next is not None:\n",
    "        temp = temp.next\n",
    "    temp.next = targetnode\n",
    "\n",
    "def hasCycle(head):\n",
    "    \"\"\"\n",
    "    :type head: ListNode\n",
    "    :rtype: bool\n",
    "    \"\"\"\n",
    "    slow = head\n",
    "    fast = head\n",
    "    while fast is not None and fast.next is not None:\n",
    "        print(slow.value, fast.value)\n",
    "        slow = slow.next\n",
    "        fast = fast.next.next\n",
    "        if slow == fast:\n",
    "            print(slow.value, fast.value)\n",
    "            return True\n",
    "    return False\n",
    "\n",
    "l2 = LinkedList()\n",
    "l2.append(3)\n",
    "l2.append(2)\n",
    "l2.append(0)\n",
    "l2.append(-4)\n",
    "\n",
    "print(l2)\n",
    "print('---')\n",
    "\n",
    "head = l1.head\n",
    "\n",
    "makeCycle(head, 1)\n",
    "    \n",
    "\n",
    "hasCycle(head)"
   ]
  },
  {
   "cell_type": "code",
   "execution_count": 6,
   "id": "5c33eb98-b0a0-4692-bb4f-5c547db1e162",
   "metadata": {},
   "outputs": [
    {
     "name": "stdout",
     "output_type": "stream",
     "text": [
      "10 -> 20 -> 40\n",
      "10 -> 30 -> 40 -> 50 -> 60\n",
      "10\n",
      "10\n",
      "20\n",
      "30\n",
      "40\n",
      "40\n",
      "50\n",
      "60\n"
     ]
    }
   ],
   "source": [
    "# https://leetcode.com/problems/merge-two-sorted-lists/ - easy\n",
    "\n",
    "l3 = LinkedList()\n",
    "l4 = LinkedList()\n",
    "l3.append(10)\n",
    "l3.append(20)\n",
    "l3.append(40)\n",
    "l4.append(10)\n",
    "l4.append(30)\n",
    "l4.append(40)\n",
    "l4.append(50)\n",
    "l4.append(60)\n",
    "\n",
    "def mergeTwoLists(list1, list2):\n",
    "    \"\"\"\n",
    "    :type list1: Optional[ListNode]\n",
    "    :type list2: Optional[ListNode]\n",
    "    :rtype: Optional[ListNode]\n",
    "    \"\"\"\n",
    "    # print(list1)\n",
    "    # print(list2)\n",
    "\n",
    "    dummy = cur = Node(0)\n",
    "    l1 = list1.head\n",
    "    l2 = list2.head\n",
    "    # print(l1.value, l2.value)\n",
    "\n",
    "    if l2 is None:\n",
    "        return l1\n",
    "    if l1 is None:\n",
    "        return l2\n",
    "\n",
    "    while l1 and l2:\n",
    "        if l1.value < l2.value:\n",
    "            cur.next = l1\n",
    "            l1 = l1.next\n",
    "        else:\n",
    "            cur.next = l2\n",
    "            l2 = l2.next\n",
    "        cur = cur.next\n",
    "    cur.next = l1 or l2\n",
    "    return dummy.next\n",
    "        \n",
    "print(l3)\n",
    "print(l4)\n",
    "\n",
    "mergedLinkedList = mergeTwoLists(l3, l4)\n",
    "\n",
    "temp = mergedLinkedList\n",
    "while temp:\n",
    "    print(temp.value)\n",
    "    temp = temp.next\n"
   ]
  },
  {
   "cell_type": "code",
   "execution_count": 7,
   "id": "2658d00b-7a6b-4d59-a670-9768220ef1bb",
   "metadata": {},
   "outputs": [
    {
     "name": "stdout",
     "output_type": "stream",
     "text": [
      "10 -> 20 -> 20\n",
      "---\n",
      "10 -> 20\n"
     ]
    }
   ],
   "source": [
    "#https://leetcode.com/problems/remove-duplicates-from-sorted-list/description/ - easy\n",
    "\n",
    "def deleteDuplicates(head):\n",
    "    \"\"\"\n",
    "    :type head: ListNode\n",
    "    :rtype: ListNode\n",
    "    \"\"\"\n",
    "    cur = head\n",
    "    while cur:\n",
    "        while cur.next and cur.next.value == cur.value:\n",
    "            cur.next = cur.next.next     # skip duplicated node\n",
    "        cur = cur.next     # not duplicate of current node, move to next node\n",
    "    return head\n",
    "\n",
    "\n",
    "\n",
    "\n",
    "# cur = head\n",
    "# while cur:\n",
    "#     while cur.next and cur.next.val == cur.val:\n",
    "#         cur.next = cur.next.next     # skip duplicated node\n",
    "#     cur = cur.next     # not duplicate of current node, move to next node\n",
    "# return head\n",
    "    \n",
    "l5 = LinkedList()\n",
    "l5.append(10)\n",
    "l5.append(20)\n",
    "l5.append(20)\n",
    "print(l5)\n",
    "print('---')\n",
    "result = deleteDuplicates(l5.head)\n",
    "print(l5)"
   ]
  },
  {
   "cell_type": "code",
   "execution_count": null,
   "id": "012ee529-fbb0-4431-a705-a3ee02da3eb9",
   "metadata": {},
   "outputs": [],
   "source": []
  }
 ],
 "metadata": {
  "kernelspec": {
   "display_name": "Python 3 (ipykernel)",
   "language": "python",
   "name": "python3"
  },
  "language_info": {
   "codemirror_mode": {
    "name": "ipython",
    "version": 3
   },
   "file_extension": ".py",
   "mimetype": "text/x-python",
   "name": "python",
   "nbconvert_exporter": "python",
   "pygments_lexer": "ipython3",
   "version": "3.11.7"
  }
 },
 "nbformat": 4,
 "nbformat_minor": 5
}
