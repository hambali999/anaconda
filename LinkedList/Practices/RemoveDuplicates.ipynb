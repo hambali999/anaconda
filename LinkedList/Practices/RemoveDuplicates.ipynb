{
 "cells": [
  {
   "cell_type": "code",
   "execution_count": 1,
   "id": "2f17f44d-b20f-4971-8efd-47d4f831f79a",
   "metadata": {},
   "outputs": [],
   "source": [
    "# Remove Duplicates\n",
    "# Given the head of a sorted linked list, delete all duplicates such that each element appears only once. Return the linked list sorted as well. \n",
    "\n",
    "# Example 1:\n",
    "# Input: head = [1,1,2]\n",
    "# Output: [1,2]\n",
    "\n",
    "# Example 2:\n",
    "# Input: head = [1,1,2,3,3]\n",
    "# Output: [1,2,3]"
   ]
  },
  {
   "cell_type": "code",
   "execution_count": 117,
   "id": "9d8656d9-020d-4f96-a169-b4096918a0be",
   "metadata": {},
   "outputs": [
    {
     "name": "stdout",
     "output_type": "stream",
     "text": [
      "1\n",
      "2\n",
      "3\n"
     ]
    },
    {
     "data": {
      "text/plain": [
       "3"
      ]
     },
     "execution_count": 117,
     "metadata": {},
     "output_type": "execute_result"
    }
   ],
   "source": [
    "class ListNode(object):\n",
    "    def __init__(self, val=0, next=None):\n",
    "        self.val = val\n",
    "        self.next = next\n",
    "\n",
    "class Solution(object):\n",
    "    def deleteDuplicates(self, head):\n",
    "        if head is None:\n",
    "            return None\n",
    "        self.head = None\n",
    "        self.tail = None\n",
    "        lstr = \"\"\n",
    "        for val in head:\n",
    "            new_node = ListNode(val)\n",
    "            if self.head is None:\n",
    "                self.head = new_node\n",
    "                self.tail = new_node\n",
    "            else:\n",
    "                self.tail.next = new_node\n",
    "                self.tail = new_node\n",
    "        seen = set()\n",
    "        pre = self.head\n",
    "        temp = self.head\n",
    "        while temp is not None:\n",
    "            if temp.val in seen:\n",
    "                pre.next = temp.next\n",
    "            else:\n",
    "                seen.add(temp.val)\n",
    "            pre = temp\n",
    "            temp = temp.next\n",
    "            \n",
    "        one = self.head\n",
    "        while one is not None:\n",
    "            print(one.val)\n",
    "            one = one.next\n",
    "        return self.tail.val\n",
    "\n",
    "\n",
    "            \n",
    "        \n",
    "\n",
    "\n",
    "\n",
    "head = [1,1,2,3,3]\n",
    "s1 = Solution()  # Create an instance of the Solution class\n",
    "s1.deleteDuplicates(head)  # Call the deleteDuplicates method on the instance\n"
   ]
  },
  {
   "cell_type": "code",
   "execution_count": null,
   "id": "33bd27e1-d993-478b-9edc-b9a8e5f2c546",
   "metadata": {},
   "outputs": [],
   "source": []
  },
  {
   "cell_type": "code",
   "execution_count": null,
   "id": "687b379c-11d5-4f9a-af01-ca37f03d489b",
   "metadata": {},
   "outputs": [],
   "source": []
  },
  {
   "cell_type": "code",
   "execution_count": null,
   "id": "b61e65c6-1a80-432d-b2e8-a23d10ca86b5",
   "metadata": {},
   "outputs": [],
   "source": []
  }
 ],
 "metadata": {
  "kernelspec": {
   "display_name": "Python 3 (ipykernel)",
   "language": "python",
   "name": "python3"
  },
  "language_info": {
   "codemirror_mode": {
    "name": "ipython",
    "version": 3
   },
   "file_extension": ".py",
   "mimetype": "text/x-python",
   "name": "python",
   "nbconvert_exporter": "python",
   "pygments_lexer": "ipython3",
   "version": "3.11.7"
  }
 },
 "nbformat": 4,
 "nbformat_minor": 5
}
