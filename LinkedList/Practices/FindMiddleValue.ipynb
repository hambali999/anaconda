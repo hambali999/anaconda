{
 "cells": [
  {
   "cell_type": "code",
   "execution_count": 63,
   "id": "418d1150-9d05-4f6d-8a89-50397f73a8e6",
   "metadata": {},
   "outputs": [],
   "source": [
    "class Node:\n",
    "    def __init__(self, value):\n",
    "        self.value = value\n",
    "        self.next = None\n",
    "        \n",
    "\n",
    "class LinkedList:\n",
    "    def __init__(self, value):\n",
    "        new_node = Node(value)\n",
    "        self.head = new_node\n",
    "        self.tail = new_node\n",
    "\n",
    "        \n",
    "    def append(self, value):\n",
    "        new_node = Node(value)\n",
    "        if self.head == None:\n",
    "            self.head = new_node\n",
    "            self.tail = new_node\n",
    "        else:\n",
    "            self.tail.next = new_node\n",
    "            self.tail = new_node\n",
    "        return True\n",
    "        \n",
    "\n",
    "    def find_middle_node(self):\n",
    "        if self.head is None:\n",
    "            return None\n",
    "        pre = self.head \n",
    "        temp = self.head \n",
    "        while(temp):\n",
    "            if temp.next is None:\n",
    "                break\n",
    "            print(pre.value, temp.value)\n",
    "            pre = pre.next\n",
    "            temp = temp.next.next\n",
    "            \n",
    "        return pre.value"
   ]
  },
  {
   "cell_type": "code",
   "execution_count": 64,
   "id": "235dc230-fab8-4707-902c-368c0af1eda2",
   "metadata": {},
   "outputs": [
    {
     "name": "stdout",
     "output_type": "stream",
     "text": [
      "1 1\n",
      "2 3\n",
      "3\n"
     ]
    },
    {
     "data": {
      "text/plain": [
       "'\\n    EXPECTED OUTPUT:\\n    ----------------\\n    3\\n    \\n'"
      ]
     },
     "execution_count": 64,
     "metadata": {},
     "output_type": "execute_result"
    }
   ],
   "source": [
    "my_linked_list = LinkedList(1)\n",
    "my_linked_list.append(2)\n",
    "my_linked_list.append(3)\n",
    "my_linked_list.append(4)\n",
    "my_linked_list.append(5)\n",
    "# my_linked_list.append(6)\n",
    "# my_linked_list.append(7)\n",
    "# my_linked_list.append(8)\n",
    "# my_linked_list.append(9)\n",
    "\n",
    "\n",
    "\n",
    "print(my_linked_list.find_middle_node())\n",
    "\n",
    "#print(my_linked_list.find_middle_node().value)\n",
    "\n",
    "\n",
    "\n",
    "\"\"\"\n",
    "    EXPECTED OUTPUT:\n",
    "    ----------------\n",
    "    3\n",
    "    \n",
    "\"\"\""
   ]
  },
  {
   "cell_type": "code",
   "execution_count": null,
   "id": "b3a1a2a6-5237-4d5e-b512-7824dd07add2",
   "metadata": {},
   "outputs": [],
   "source": []
  },
  {
   "cell_type": "code",
   "execution_count": null,
   "id": "d9129104-a98c-45f2-98d9-12c9c7c0a440",
   "metadata": {},
   "outputs": [],
   "source": []
  }
 ],
 "metadata": {
  "kernelspec": {
   "display_name": "Python 3 (ipykernel)",
   "language": "python",
   "name": "python3"
  },
  "language_info": {
   "codemirror_mode": {
    "name": "ipython",
    "version": 3
   },
   "file_extension": ".py",
   "mimetype": "text/x-python",
   "name": "python",
   "nbconvert_exporter": "python",
   "pygments_lexer": "ipython3",
   "version": "3.11.7"
  }
 },
 "nbformat": 4,
 "nbformat_minor": 5
}
