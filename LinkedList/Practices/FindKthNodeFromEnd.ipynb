{
 "cells": [
  {
   "cell_type": "code",
   "execution_count": 31,
   "id": "f5c500ed-116b-4da5-b2c3-9da0baca8187",
   "metadata": {},
   "outputs": [
    {
     "name": "stdout",
     "output_type": "stream",
     "text": [
      "4\n"
     ]
    },
    {
     "data": {
      "text/plain": [
       "'\\n    EXPECTED OUTPUT:\\n    ----------------\\n    4\\n    \\n'"
      ]
     },
     "execution_count": 31,
     "metadata": {},
     "output_type": "execute_result"
    }
   ],
   "source": [
    "class Node:\n",
    "    def __init__(self, value):\n",
    "        self.value = value\n",
    "        self.next = None\n",
    "        \n",
    "\n",
    "class LinkedList:\n",
    "    def __init__(self, value):\n",
    "        new_node = Node(value)\n",
    "        self.head = new_node\n",
    "        self.tail = new_node\n",
    "\n",
    "        \n",
    "    def append(self, value):\n",
    "        new_node = Node(value)\n",
    "        if self.head == None:\n",
    "            self.head = new_node\n",
    "            self.tail = new_node\n",
    "        else:\n",
    "            self.tail.next = new_node\n",
    "            self.tail = new_node\n",
    "        return True\n",
    "  \n",
    "  \n",
    "        \n",
    "def find_kth_from_end(ll, k):\n",
    "    if k == 0:\n",
    "        return None\n",
    "    temp = ll.head\n",
    "    length = 0\n",
    "    while temp is not None:\n",
    "        length += 1\n",
    "        temp = temp.next\n",
    "    if k > length:\n",
    "        return None\n",
    "    length = length - k\n",
    "    result = ll.head\n",
    "    for _ in range(length):\n",
    "        result = result.next\n",
    "    return result\n",
    "\n",
    "\n",
    "\n",
    "\n",
    "my_linked_list = LinkedList(1)\n",
    "my_linked_list.append(2)\n",
    "my_linked_list.append(3)\n",
    "my_linked_list.append(4)\n",
    "my_linked_list.append(5)\n",
    "\n",
    "\n",
    "k = 2\n",
    "result = find_kth_from_end(my_linked_list, k)\n",
    "\n",
    "print(result.value)  # Output: 4\n",
    "\n",
    "\n",
    "\n",
    "\"\"\"\n",
    "    EXPECTED OUTPUT:\n",
    "    ----------------\n",
    "    4\n",
    "    \n",
    "\"\"\"\n",
    "\n"
   ]
  },
  {
   "cell_type": "code",
   "execution_count": null,
   "id": "885158f2-57e8-490d-b480-2cd2ddd75964",
   "metadata": {},
   "outputs": [],
   "source": []
  },
  {
   "cell_type": "code",
   "execution_count": null,
   "id": "379eb4dc-4de1-409c-82b5-8dbcb3cc545c",
   "metadata": {},
   "outputs": [],
   "source": []
  }
 ],
 "metadata": {
  "kernelspec": {
   "display_name": "Python 3 (ipykernel)",
   "language": "python",
   "name": "python3"
  },
  "language_info": {
   "codemirror_mode": {
    "name": "ipython",
    "version": 3
   },
   "file_extension": ".py",
   "mimetype": "text/x-python",
   "name": "python",
   "nbconvert_exporter": "python",
   "pygments_lexer": "ipython3",
   "version": "3.11.7"
  }
 },
 "nbformat": 4,
 "nbformat_minor": 5
}
