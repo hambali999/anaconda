{
 "cells": [
  {
   "cell_type": "code",
   "execution_count": 27,
   "id": "7daea5bc-776c-42ae-bda2-8385f23db41e",
   "metadata": {},
   "outputs": [
    {
     "name": "stdout",
     "output_type": "stream",
     "text": [
      "3\n"
     ]
    }
   ],
   "source": [
    "\n",
    "def Fibonacci(n):\n",
    "    if n < 0:\n",
    "        return -1\n",
    "    elif n == 1 or n == 2:\n",
    "        return 1\n",
    "    else:\n",
    "        return Fibonacci(n-1) + Fibonacci(n-2)\n",
    " \n",
    " \n",
    "# Driver Program\n",
    "print(Fibonacci(4))\n",
    "\n",
    "# 1st - (4-1)+(4-2)=5\n",
    "# 2nd - (3-1)+(3-2)=3\n",
    "# 3rd - (2-1)+1 = 2\n",
    "# 4th - (1-1) = 0\n",
    "\n",
    "# 1 1 2 3 5 8 13 21 34"
   ]
  },
  {
   "cell_type": "code",
   "execution_count": null,
   "id": "22ca2bae-2bbb-446c-b73d-fc3091931c52",
   "metadata": {},
   "outputs": [],
   "source": []
  }
 ],
 "metadata": {
  "kernelspec": {
   "display_name": "Python 3 (ipykernel)",
   "language": "python",
   "name": "python3"
  },
  "language_info": {
   "codemirror_mode": {
    "name": "ipython",
    "version": 3
   },
   "file_extension": ".py",
   "mimetype": "text/x-python",
   "name": "python",
   "nbconvert_exporter": "python",
   "pygments_lexer": "ipython3",
   "version": "3.11.7"
  }
 },
 "nbformat": 4,
 "nbformat_minor": 5
}
