{
 "cells": [
  {
   "cell_type": "code",
   "execution_count": 18,
   "id": "c631ce85-42a5-44d6-af11-292eecb70736",
   "metadata": {},
   "outputs": [
    {
     "name": "stdout",
     "output_type": "stream",
     "text": [
      "The fibonacci sequence for sequence 8 is: 21\n"
     ]
    }
   ],
   "source": [
    "def fib(n):\n",
    "    if n == 0:\n",
    "        return False\n",
    "    elif n == 1 or n == 2:\n",
    "        return 1\n",
    "    else: \n",
    "        return fib(n-1) + fib(n-2)\n",
    "\n",
    "seq = 8\n",
    "fibseq = fib(seq)\n",
    "print(f\"The fibonacci sequence for sequence {seq} is: {fibseq}\")\n",
    "\n",
    "\n"
   ]
  },
  {
   "cell_type": "markdown",
   "id": "45b093b9-35e4-40d1-af52-b0f3cc8d64ba",
   "metadata": {},
   "source": [
    "$$\\bf Fibonacci\\:Sequence$$\n",
    "$$0,1,1,2,3,5,8,13,21,34$$"
   ]
  },
  {
   "cell_type": "code",
   "execution_count": null,
   "id": "b9729097-3f4e-4181-972a-256c9cc8f64d",
   "metadata": {},
   "outputs": [],
   "source": []
  }
 ],
 "metadata": {
  "kernelspec": {
   "display_name": "Python 3 (ipykernel)",
   "language": "python",
   "name": "python3"
  },
  "language_info": {
   "codemirror_mode": {
    "name": "ipython",
    "version": 3
   },
   "file_extension": ".py",
   "mimetype": "text/x-python",
   "name": "python",
   "nbconvert_exporter": "python",
   "pygments_lexer": "ipython3",
   "version": "3.12.2"
  }
 },
 "nbformat": 4,
 "nbformat_minor": 5
}
