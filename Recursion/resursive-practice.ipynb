{
 "cells": [
  {
   "cell_type": "code",
   "execution_count": 33,
   "id": "c631ce85-42a5-44d6-af11-292eecb70736",
   "metadata": {},
   "outputs": [
    {
     "name": "stdout",
     "output_type": "stream",
     "text": [
      "The fibonacci sequence for sequence 8 is: 21\n"
     ]
    }
   ],
   "source": [
    "def fib(n):\n",
    "    if n == 0:\n",
    "        return False\n",
    "    elif n == 1 or n == 2:\n",
    "        return 1\n",
    "    else: \n",
    "        return fib(n-1) + fib(n-2)\n",
    "\n",
    "seq = 8\n",
    "fibseq = fib(seq)\n",
    "print(f\"The fibonacci sequence for sequence {seq} is: {fibseq}\")\n",
    "\n",
    "\n"
   ]
  },
  {
   "cell_type": "markdown",
   "id": "45b093b9-35e4-40d1-af52-b0f3cc8d64ba",
   "metadata": {},
   "source": [
    "$$\\bf Fibonacci\\:Sequence$$\n",
    "$$0,1,1,2,3,5,8,13,21,34$$"
   ]
  },
  {
   "cell_type": "markdown",
   "id": "d2713cc6-1f45-413b-b25a-11043e55317a",
   "metadata": {},
   "source": [
    "$$===$$"
   ]
  },
  {
   "cell_type": "code",
   "execution_count": 34,
   "id": "76c82c1a-a3a3-4c17-8f45-1c9f8c8c8261",
   "metadata": {},
   "outputs": [
    {
     "name": "stdout",
     "output_type": "stream",
     "text": [
      "4\n",
      "----------------------------------------------------------------------------------------------------\n",
      "3\n",
      "----------------------------------------------------------------------------------------------------\n",
      "2\n",
      "----------------------------------------------------------------------------------------------------\n",
      "1\n",
      "----------------------------------------------------------------------------------------------------\n",
      "24\n"
     ]
    }
   ],
   "source": [
    "def factorial(n):\n",
    "    print(n)\n",
    "    print(\"-\"*100)\n",
    "    if n == 0:\n",
    "        return False\n",
    "    if n == 1:\n",
    "        return 1\n",
    "    else:\n",
    "        return n * factorial(n-1)\n",
    "\n",
    "print(factorial(4))"
   ]
  },
  {
   "cell_type": "markdown",
   "id": "4ee1cf52-0498-4fad-a40c-2275cb82b4c3",
   "metadata": {},
   "source": [
    "$$Factorial$$\n",
    "\n",
    "#### The factorial function (symbol: !) says to multiply all whole numbers from our chosen number down to 1. Examples: 4! = 4 × 3 × 2 × 1 = 24."
   ]
  },
  {
   "cell_type": "code",
   "execution_count": null,
   "id": "01b7fc38-8d50-4821-b9ba-e501f159ee3a",
   "metadata": {},
   "outputs": [],
   "source": []
  }
 ],
 "metadata": {
  "kernelspec": {
   "display_name": "Python 3 (ipykernel)",
   "language": "python",
   "name": "python3"
  },
  "language_info": {
   "codemirror_mode": {
    "name": "ipython",
    "version": 3
   },
   "file_extension": ".py",
   "mimetype": "text/x-python",
   "name": "python",
   "nbconvert_exporter": "python",
   "pygments_lexer": "ipython3",
   "version": "3.12.2"
  }
 },
 "nbformat": 4,
 "nbformat_minor": 5
}
