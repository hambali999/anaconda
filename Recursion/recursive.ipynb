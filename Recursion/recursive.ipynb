{
 "cells": [
  {
   "cell_type": "code",
   "execution_count": 15,
   "id": "ce83e15e-72fa-4223-98fb-c38c9e4790fe",
   "metadata": {},
   "outputs": [
    {
     "name": "stdout",
     "output_type": "stream",
     "text": [
      "The number is below 1 now\n",
      "0\n",
      "1\n",
      "2\n",
      "3\n",
      "4\n",
      "5\n"
     ]
    }
   ],
   "source": [
    "def recursive(n):\n",
    "    if n < 1:\n",
    "        print(\"The number is below 1 now\")\n",
    "        print(n)\n",
    "    else:\n",
    "        # print(n)\n",
    "        recursive(n-1)\n",
    "        print(n)\n",
    "\n",
    "\n",
    "recursive(5)"
   ]
  },
  {
   "cell_type": "code",
   "execution_count": null,
   "id": "02646235-0608-4a9e-9c06-ab8b14757208",
   "metadata": {},
   "outputs": [],
   "source": []
  }
 ],
 "metadata": {
  "kernelspec": {
   "display_name": "Python 3 (ipykernel)",
   "language": "python",
   "name": "python3"
  },
  "language_info": {
   "codemirror_mode": {
    "name": "ipython",
    "version": 3
   },
   "file_extension": ".py",
   "mimetype": "text/x-python",
   "name": "python",
   "nbconvert_exporter": "python",
   "pygments_lexer": "ipython3",
   "version": "3.11.7"
  }
 },
 "nbformat": 4,
 "nbformat_minor": 5
}
